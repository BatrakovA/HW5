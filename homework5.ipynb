{
 "cells": [
  {
   "cell_type": "markdown",
   "metadata": {},
   "source": [
    "Задание 1"
   ]
  },
  {
   "cell_type": "code",
   "execution_count": 1,
   "metadata": {},
   "outputs": [],
   "source": [
    "import json"
   ]
  },
  {
   "cell_type": "code",
   "execution_count": 2,
   "metadata": {},
   "outputs": [],
   "source": [
    "purchases = {}\n",
    "with open('Downloads\\purchase_log.txt', encoding='utf-8') as file:\n",
    "    for line in file:\n",
    "        line = line.strip() #надо ли? или на всякий случай, т.к. у нас файл может быть плохим?\n",
    "        my_dict = json.loads(line)\n",
    "        purchases.update({my_dict.values()})"
   ]
  },
  {
   "cell_type": "code",
   "execution_count": 3,
   "metadata": {},
   "outputs": [
    {
     "data": {
      "text/plain": [
       "99518"
      ]
     },
     "execution_count": 3,
     "metadata": {},
     "output_type": "execute_result"
    }
   ],
   "source": [
    "len(purchases) #получается, что есть пользователи, которые покупали в нескольких категориях "
   ]
  },
  {
   "cell_type": "code",
   "execution_count": 4,
   "metadata": {},
   "outputs": [
    {
     "name": "stdout",
     "output_type": "stream",
     "text": [
      "user_id category\n",
      "1840e0b9d4 Продукты\n",
      "4e4f90fcfb Электроника\n",
      "afea8d72fc Электроника\n",
      "373a6055fe Бытовая техника\n",
      "9b2ab046f3 Электроника\n"
     ]
    }
   ],
   "source": [
    "i = 0\n",
    "for a, b in purchases.items():\n",
    "    print(a,b)\n",
    "    i += 1\n",
    "    if i > 5:\n",
    "        break"
   ]
  },
  {
   "cell_type": "code",
   "execution_count": 5,
   "metadata": {},
   "outputs": [],
   "source": [
    "purchases = {}\n",
    "i = 0\n",
    "with open('Downloads\\purchase_log.txt', encoding='utf-8') as file:\n",
    "    for line in file:\n",
    "        line = line.strip() \n",
    "        my_dict = json.loads(line)\n",
    "        temp = list(my_dict.values())\n",
    "        if temp[0] not in purchases.keys():\n",
    "            purchases.update({temp[0]:temp[1]})\n",
    "        else:\n",
    "            temp[0] = temp[0] + '_' + str(i) #так можно? в целом, как выходят из подобных ситуаций?\n",
    "            i += 1\n",
    "            purchases.update({temp[0]:temp[1]})"
   ]
  },
  {
   "cell_type": "code",
   "execution_count": 6,
   "metadata": {},
   "outputs": [
    {
     "name": "stdout",
     "output_type": "stream",
     "text": [
      "user_id category\n",
      "1840e0b9d4 Продукты\n",
      "4e4f90fcfb Электроника\n",
      "afea8d72fc Электроника\n",
      "373a6055fe Бытовая техника\n",
      "9b2ab046f3 Электроника\n"
     ]
    }
   ],
   "source": [
    "i = 0\n",
    "for a, b in purchases.items():\n",
    "    print(a,b)\n",
    "    i += 1\n",
    "    if i > 5:\n",
    "        break"
   ]
  },
  {
   "cell_type": "code",
   "execution_count": 7,
   "metadata": {},
   "outputs": [
    {
     "data": {
      "text/plain": [
       "100000"
      ]
     },
     "execution_count": 7,
     "metadata": {},
     "output_type": "execute_result"
    }
   ],
   "source": [
    "len(purchases)"
   ]
  },
  {
   "cell_type": "markdown",
   "metadata": {},
   "source": [
    "Задание 2"
   ]
  },
  {
   "cell_type": "code",
   "execution_count": 8,
   "metadata": {},
   "outputs": [],
   "source": [
    "pur_dict = {}\n",
    "\n",
    "with open('Downloads\\Visit_log.csv') as log:\n",
    "    with open('funnel.csv', 'w', encoding='utf-8') as out:\n",
    "        purchase = open('Downloads\\purchase_log.txt', encoding='utf-8').readlines()\n",
    "        for element in purchase:\n",
    "            my_dict = json.loads(element)\n",
    "            pur_dict.update({my_dict.values()})\n",
    "        for line in log:\n",
    "            line = line.strip().split(',')\n",
    "            if line[0] in pur_dict.keys():\n",
    "                out.write(line[0] + ',' + line[1] + ',' + str(pur_dict.get(line[0])) + '\\n')"
   ]
  }
 ],
 "metadata": {
  "kernelspec": {
   "display_name": "Python 3",
   "language": "python",
   "name": "python3"
  },
  "language_info": {
   "codemirror_mode": {
    "name": "ipython",
    "version": 3
   },
   "file_extension": ".py",
   "mimetype": "text/x-python",
   "name": "python",
   "nbconvert_exporter": "python",
   "pygments_lexer": "ipython3",
   "version": "3.8.5"
  }
 },
 "nbformat": 4,
 "nbformat_minor": 4
}
